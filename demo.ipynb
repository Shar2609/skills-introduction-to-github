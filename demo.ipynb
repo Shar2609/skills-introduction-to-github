{
  "nbformat": 4,
  "nbformat_minor": 0,
  "metadata": {
    "colab": {
      "provenance": [],
      "authorship_tag": "ABX9TyMY8W7uR2/ZiaFHYJcluKYA",
      "include_colab_link": true
    },
    "kernelspec": {
      "name": "python3",
      "display_name": "Python 3"
    },
    "language_info": {
      "name": "python"
    }
  },
  "cells": [
    {
      "cell_type": "markdown",
      "metadata": {
        "id": "view-in-github",
        "colab_type": "text"
      },
      "source": [
        "<a href=\"https://colab.research.google.com/github/Shar2609/skills-introduction-to-github/blob/main/demo.ipynb\" target=\"_parent\"><img src=\"https://colab.research.google.com/assets/colab-badge.svg\" alt=\"Open In Colab\"/></a>"
      ]
    },
    {
      "cell_type": "code",
      "execution_count": 10,
      "metadata": {
        "colab": {
          "base_uri": "https://localhost:8080/"
        },
        "id": "xHuZAxBRDaZT",
        "outputId": "96088a8b-4646-4079-e3dd-2f103dc2d9a4"
      },
      "outputs": [
        {
          "output_type": "stream",
          "name": "stdout",
          "text": [
            "160000\n",
            "160000\n",
            "160000\n"
          ]
        }
      ],
      "source": [
        "#perform power operation on the given value\n",
        "num = 20\n",
        "pwr = 4\n",
        "print(num**pwr)\n",
        "print(num**4)\n",
        "res = num**4\n",
        "print(res)"
      ]
    },
    {
      "cell_type": "code",
      "source": [
        "var1 = 100\n",
        "var2 = 500\n",
        "\n",
        "temp = var1\n",
        "var1 = var2\n",
        "var = temp\n",
        "print(temp)\n",
        "print(var1)\n",
        "print(var2)\n"
      ],
      "metadata": {
        "colab": {
          "base_uri": "https://localhost:8080/"
        },
        "id": "H-vdOKxxIOOX",
        "outputId": "0865d8a8-d799-4a52-81cb-36d433f6f52d"
      },
      "execution_count": 9,
      "outputs": [
        {
          "output_type": "stream",
          "name": "stdout",
          "text": [
            "100\n",
            "500\n",
            "500\n",
            "100\n",
            "500\n",
            "500\n"
          ]
        }
      ]
    },
    {
      "cell_type": "code",
      "source": [
        "num1 = int( input(\" enter a value: \"))\n",
        "num2 = int( input(\" enter a value:\"))\n",
        "if num1>num2:\n",
        "print(num1, \"is greater\")\n",
        "else:\n",
        "print(num2, \"is greater\")"
      ],
      "metadata": {
        "colab": {
          "base_uri": "https://localhost:8080/",
          "height": 106
        },
        "id": "sW0QtmqJIz08",
        "outputId": "72f9fc3d-dda8-48d6-c205-cba8110a3c16"
      },
      "execution_count": 15,
      "outputs": [
        {
          "output_type": "error",
          "ename": "IndentationError",
          "evalue": "expected an indented block after 'if' statement on line 3 (<ipython-input-15-39c103c46036>, line 4)",
          "traceback": [
            "\u001b[0;36m  File \u001b[0;32m\"<ipython-input-15-39c103c46036>\"\u001b[0;36m, line \u001b[0;32m4\u001b[0m\n\u001b[0;31m    print(num1, \"is greater\")\u001b[0m\n\u001b[0m    ^\u001b[0m\n\u001b[0;31mIndentationError\u001b[0m\u001b[0;31m:\u001b[0m expected an indented block after 'if' statement on line 3\n"
          ]
        }
      ]
    },
    {
      "cell_type": "code",
      "source": [
        "num1 = int( input(\" enter a value: \"))\n",
        "num2 = int( input(\" enter a value:\"))\n",
        "if num1>num2:\n",
        "print(num1, \"is greater\")\n",
        "else:\n",
        "print(num2, \"is greater\")"
      ],
      "metadata": {
        "colab": {
          "base_uri": "https://localhost:8080/",
          "height": 106
        },
        "id": "OxEoRt69Llso",
        "outputId": "db2ec0ef-ee43-46a2-d5e7-980c3460fbc5"
      },
      "execution_count": 16,
      "outputs": [
        {
          "output_type": "error",
          "ename": "IndentationError",
          "evalue": "expected an indented block after 'if' statement on line 3 (<ipython-input-16-39c103c46036>, line 4)",
          "traceback": [
            "\u001b[0;36m  File \u001b[0;32m\"<ipython-input-16-39c103c46036>\"\u001b[0;36m, line \u001b[0;32m4\u001b[0m\n\u001b[0;31m    print(num1, \"is greater\")\u001b[0m\n\u001b[0m    ^\u001b[0m\n\u001b[0;31mIndentationError\u001b[0m\u001b[0;31m:\u001b[0m expected an indented block after 'if' statement on line 3\n"
          ]
        }
      ]
    },
    {
      "cell_type": "code",
      "source": [
        "num = int( input(\" Enter a value\"))\n",
        "if num % 2 == 0:\n",
        "  print(num, \"is even\")\n",
        "else:\n",
        "  print(num, \"is odd\")"
      ],
      "metadata": {
        "colab": {
          "base_uri": "https://localhost:8080/"
        },
        "id": "Ie5xn0vUMbQn",
        "outputId": "e0f26e3e-adaf-4d5e-f0e7-18721883ca63"
      },
      "execution_count": 19,
      "outputs": [
        {
          "output_type": "stream",
          "name": "stdout",
          "text": [
            " Enter a value56\n",
            "56 is even\n"
          ]
        }
      ]
    },
    {
      "cell_type": "code",
      "source": [
        "# <= less than equal to operator\n",
        "# is return true is less than is less than or equal to the other\n",
        "val1 = 10\n",
        "val2 = 8\n",
        "val3 = 8\n",
        "print(val1 <= val2)\n",
        "print(val2 <= val3)"
      ],
      "metadata": {
        "colab": {
          "base_uri": "https://localhost:8080/"
        },
        "id": "ew2mNVkxNxuq",
        "outputId": "e60ff913-53c4-4079-c627-1c0a08d86dca"
      },
      "execution_count": 20,
      "outputs": [
        {
          "output_type": "stream",
          "name": "stdout",
          "text": [
            "False\n",
            "True\n"
          ]
        }
      ]
    },
    {
      "cell_type": "code",
      "source": [
        "# == equal to operator:\n",
        "val1 = 10\n",
        "val2 = 15\n",
        "print(val1 == val3)"
      ],
      "metadata": {
        "colab": {
          "base_uri": "https://localhost:8080/"
        },
        "id": "scS3nxwSO_TA",
        "outputId": "f1bb1fb8-d311-4086-dd44-f4db4b49bcd5"
      },
      "execution_count": 21,
      "outputs": [
        {
          "output_type": "stream",
          "name": "stdout",
          "text": [
            "False\n"
          ]
        }
      ]
    },
    {
      "cell_type": "code",
      "source": [
        "#!= not equal to operator:\n",
        "val1 = 10\n",
        "val2 = 15\n",
        "print(val1 != val2)"
      ],
      "metadata": {
        "colab": {
          "base_uri": "https://localhost:8080/"
        },
        "id": "4VyJxQwxPVHp",
        "outputId": "fea6907a-a616-4e22-904e-f99d6da57909"
      },
      "execution_count": 23,
      "outputs": [
        {
          "output_type": "stream",
          "name": "stdout",
          "text": [
            "True\n"
          ]
        }
      ]
    },
    {
      "cell_type": "code",
      "source": [
        "# add and assign\n",
        "num1 = 10\n",
        "num2 = 100\n",
        "num1 += num2\n",
        "print(num1)\n",
        "print(num2)"
      ],
      "metadata": {
        "colab": {
          "base_uri": "https://localhost:8080/"
        },
        "id": "9dT0xL9TQGmV",
        "outputId": "5fcd71f6-164f-47d0-bb07-4a914cfa46e8"
      },
      "execution_count": 24,
      "outputs": [
        {
          "output_type": "stream",
          "name": "stdout",
          "text": [
            "110\n",
            "100\n"
          ]
        }
      ]
    },
    {
      "cell_type": "code",
      "source": [
        "num3 = 50\n",
        "num3 *= 2\n",
        "print(num3)"
      ],
      "metadata": {
        "colab": {
          "base_uri": "https://localhost:8080/"
        },
        "id": "JK6IzPeLQ9aY",
        "outputId": "3b0e9a64-2398-4254-ee68-c2dfd4488bb5"
      },
      "execution_count": 25,
      "outputs": [
        {
          "output_type": "stream",
          "name": "stdout",
          "text": [
            "100\n"
          ]
        }
      ]
    },
    {
      "cell_type": "code",
      "source": [
        "# Q --> use asssignment operators to change the value of given variable\n",
        "# by performing division, floor div, and power operation\n",
        "# var1 = take input from user\n",
        "num1 = 40\n",
        "num1 /= 2\n",
        "print(num1)\n",
        "num1 //=2\n",
        "print(num1)\n",
        "num1 **=2\n",
        "print(num1)"
      ],
      "metadata": {
        "colab": {
          "base_uri": "https://localhost:8080/"
        },
        "id": "Uf8KrOyARSTI",
        "outputId": "a1149a00-a478-465b-97f1-efd241ae8cb1"
      },
      "execution_count": 26,
      "outputs": [
        {
          "output_type": "stream",
          "name": "stdout",
          "text": [
            "20.0\n",
            "10.0\n",
            "100.0\n"
          ]
        }
      ]
    }
  ]
}
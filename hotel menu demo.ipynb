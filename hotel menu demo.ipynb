{
  "nbformat": 4,
  "nbformat_minor": 0,
  "metadata": {
    "colab": {
      "provenance": [],
      "authorship_tag": "ABX9TyPOnga8Yem0vm4bqIQ/Rxzs",
      "include_colab_link": true
    },
    "kernelspec": {
      "name": "python3",
      "display_name": "Python 3"
    },
    "language_info": {
      "name": "python"
    }
  },
  "cells": [
    {
      "cell_type": "markdown",
      "metadata": {
        "id": "view-in-github",
        "colab_type": "text"
      },
      "source": [
        "<a href=\"https://colab.research.google.com/github/Shar2609/skills-introduction-to-github/blob/main/hotel%20menu%20demo.ipynb\" target=\"_parent\"><img src=\"https://colab.research.google.com/assets/colab-badge.svg\" alt=\"Open In Colab\"/></a>"
      ]
    },
    {
      "cell_type": "code",
      "execution_count": 4,
      "metadata": {
        "colab": {
          "base_uri": "https://localhost:8080/"
        },
        "id": "jbSLFTFLENyT",
        "outputId": "4883c0a9-887c-44ae-9425-0559fb47f924"
      },
      "outputs": [
        {
          "output_type": "stream",
          "name": "stdout",
          "text": [
            "Enter the name of the dish: salad\n",
            "Sorry, the dish is not available.\n"
          ]
        }
      ],
      "source": [
        "# Dictionary of dishes and their prices\n",
        "menu = {\n",
        "    \"Pasta\": 250,\n",
        "    \"Pizza\": 400,\n",
        "    \"Burger\": 150,\n",
        "    \"Salad\": 120,\n",
        "    \"Soup\": 100,\n",
        "    \"Sandwich\": 200\n",
        "}\n",
        "\n",
        "# Get dish name from user\n",
        "dish_name = input(\"Enter the name of the dish: \").strip()\n",
        "\n",
        "# Check if the dish is in the menu\n",
        "if dish_name in menu:\n",
        "    print(f\"The dish '{dish_name}' is available. Price: ₹{menu[dish_name]}\")\n",
        "else:\n",
        "    print(\"Sorry, the dish is not available.\")\n"
      ]
    },
    {
      "cell_type": "code",
      "source": [
        "# Dictionary of dishes and their prices\n",
        "menu = {\n",
        "    \"Pasta\": 250,\n",
        "    \"Pizza\": 400,\n",
        "    \"Burger\": 150,\n",
        "    \"Salad\": 120,\n",
        "    \"Soup\": 100,\n",
        "    \"Sandwich\": 200\n",
        "}\n",
        "\n",
        "# Get dish name from user\n",
        "dish_name = input(\"Enter the name of the dish: \").strip()\n",
        "\n",
        "# Normalize case for comparison\n",
        "dish_name_lower = dish_name.lower()\n",
        "\n",
        "# Check if the dish is in the menu (case-insensitive)\n",
        "found = False\n",
        "for dish in menu:\n",
        "    if dish.lower() == dish_name_lower:\n",
        "        print(f\"The dish '{dish}' is available. Price: ₹{menu[dish]}\")\n",
        "        found = True\n",
        "        break\n",
        "\n",
        "if not found:\n",
        "    print(\"Sorry, the dish is not available.\")\n"
      ],
      "metadata": {
        "colab": {
          "base_uri": "https://localhost:8080/"
        },
        "id": "VQ2AHbvMFFJd",
        "outputId": "37872aeb-9b46-4f3e-e971-f21265a43e4d"
      },
      "execution_count": 7,
      "outputs": [
        {
          "output_type": "stream",
          "name": "stdout",
          "text": [
            "Enter the name of the dish: mix veg\n",
            "Sorry, the dish is not available.\n"
          ]
        }
      ]
    }
  ]
}